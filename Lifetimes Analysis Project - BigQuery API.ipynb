{
 "cells": [
  {
   "cell_type": "markdown",
   "id": "46738147",
   "metadata": {},
   "source": [
    "## Customer Lifetime Value Prediction - Wenyi Yan\n",
    "\n",
    "### Project Goals:\n",
    "Answer following questions:\n",
    "- How many times will customers purchase in 90 days (i.e Frequencies)\n",
    "- How much will customers spend in 90 days (i.e Monatry values)\n",
    "- What's the customer lifetime values in 90 days (i.e CLV)\n",
    "\n",
    "### Project Features:\n",
    "- These models are simple, effective, and quite accurate on purchase behaviors prediction comparing to other complex machine learning models\n",
    "- Transaction data is what all needed, so reduced complexity of data cleaning which is user friendly"
   ]
  },
  {
   "cell_type": "code",
   "execution_count": 1,
   "id": "4c6bdb27",
   "metadata": {},
   "outputs": [],
   "source": [
    "#Connect BigQuery API\n",
    "import os\n",
    "import time\n",
    "from google.cloud import bigquery\n",
    "\n",
    "import pandas as pd\n",
    "import numpy as np\n",
    "from tqdm import tqdm\n",
    "import matplotlib.pyplot as plt\n",
    "\n",
    "from sklearn.preprocessing import KBinsDiscretizer\n",
    "from sklearn.metrics import confusion_matrix\n",
    "import seaborn as sns\n",
    "import datetime\n",
    "from sklearn.metrics import mean_absolute_error, f1_score\n",
    "\n",
    "from lifetimes import BetaGeoFitter, GammaGammaFitter\n",
    "from lifetimes.utils import calibration_and_holdout_data, summary_data_from_transaction_data\n",
    "from lifetimes.plotting import plot_period_transactions, plot_frequency_recency_matrix, plot_probability_alive_matrix\n",
    "\n",
    "os.environ['GOOGLE_APPLICATION_CREDENTIALS']='wy_ServiceKey_GCP.json'\n",
    "\n",
    "client = bigquery.Client()"
   ]
  },
  {
   "cell_type": "code",
   "execution_count": 2,
   "id": "d30737b6",
   "metadata": {},
   "outputs": [],
   "source": [
    "#Extract Data 'id', 'date', 'purchasequantity', 'purchaseamount' in one year\n",
    "sql_query=\"\"\"SELECT InvoiceNo, InvoiceDate, CustomerID, Quantity, UnitPrice\n",
    "FROM OnlineRetail.OnlineRetail_transformed\n",
    "WHERE InvoiceDate <='2021-11-30'\n",
    "\"\"\" \n",
    "\n",
    "query_job = client.query(sql_query)\n",
    "\n",
    "while query_job.state != 'DONE':\n",
    "    query_job.reload()\n",
    "    time.sleep(3) #check again after 3 secs\n",
    "    \n",
    "if query_job.state == \"DONE\":\n",
    "    df=query_job.to_dataframe()\n",
    "else:\n",
    "    print(query_job.result())"
   ]
  },
  {
   "cell_type": "markdown",
   "id": "e6519d00",
   "metadata": {},
   "source": [
    "## Data exploration\n",
    "Finding: \n",
    "- There are about 20% missing customerID.\n",
    "- There are 'quantity' < 0, this caused by cancelled orders (whose 'InvoiceNo' start from 'c') and cancelled items\n",
    " - All cancelled orders' quantity<0 "
   ]
  },
  {
   "cell_type": "code",
   "execution_count": 3,
   "id": "b04cc035",
   "metadata": {},
   "outputs": [
    {
     "data": {
      "text/plain": [
       "(516384, 5)"
      ]
     },
     "execution_count": 3,
     "metadata": {},
     "output_type": "execute_result"
    }
   ],
   "source": [
    "df.shape"
   ]
  },
  {
   "cell_type": "code",
   "execution_count": 4,
   "id": "339e2ed1",
   "metadata": {},
   "outputs": [
    {
     "data": {
      "text/html": [
       "<div>\n",
       "<style scoped>\n",
       "    .dataframe tbody tr th:only-of-type {\n",
       "        vertical-align: middle;\n",
       "    }\n",
       "\n",
       "    .dataframe tbody tr th {\n",
       "        vertical-align: top;\n",
       "    }\n",
       "\n",
       "    .dataframe thead th {\n",
       "        text-align: right;\n",
       "    }\n",
       "</style>\n",
       "<table border=\"1\" class=\"dataframe\">\n",
       "  <thead>\n",
       "    <tr style=\"text-align: right;\">\n",
       "      <th></th>\n",
       "      <th>CustomerID</th>\n",
       "      <th>Quantity</th>\n",
       "      <th>UnitPrice</th>\n",
       "    </tr>\n",
       "  </thead>\n",
       "  <tbody>\n",
       "    <tr>\n",
       "      <th>count</th>\n",
       "      <td>389168.000000</td>\n",
       "      <td>516384.000000</td>\n",
       "      <td>516384.000000</td>\n",
       "    </tr>\n",
       "    <tr>\n",
       "      <th>mean</th>\n",
       "      <td>15287.024473</td>\n",
       "      <td>9.586116</td>\n",
       "      <td>4.579709</td>\n",
       "    </tr>\n",
       "    <tr>\n",
       "      <th>std</th>\n",
       "      <td>1712.959478</td>\n",
       "      <td>156.331122</td>\n",
       "      <td>94.287694</td>\n",
       "    </tr>\n",
       "    <tr>\n",
       "      <th>min</th>\n",
       "      <td>12346.000000</td>\n",
       "      <td>-74215.000000</td>\n",
       "      <td>-11062.060000</td>\n",
       "    </tr>\n",
       "    <tr>\n",
       "      <th>25%</th>\n",
       "      <td>13952.000000</td>\n",
       "      <td>1.000000</td>\n",
       "      <td>1.250000</td>\n",
       "    </tr>\n",
       "    <tr>\n",
       "      <th>50%</th>\n",
       "      <td>15154.000000</td>\n",
       "      <td>3.000000</td>\n",
       "      <td>2.080000</td>\n",
       "    </tr>\n",
       "    <tr>\n",
       "      <th>75%</th>\n",
       "      <td>16788.000000</td>\n",
       "      <td>10.000000</td>\n",
       "      <td>4.130000</td>\n",
       "    </tr>\n",
       "    <tr>\n",
       "      <th>max</th>\n",
       "      <td>18287.000000</td>\n",
       "      <td>74215.000000</td>\n",
       "      <td>38970.000000</td>\n",
       "    </tr>\n",
       "  </tbody>\n",
       "</table>\n",
       "</div>"
      ],
      "text/plain": [
       "          CustomerID       Quantity      UnitPrice\n",
       "count  389168.000000  516384.000000  516384.000000\n",
       "mean    15287.024473       9.586116       4.579709\n",
       "std      1712.959478     156.331122      94.287694\n",
       "min     12346.000000  -74215.000000  -11062.060000\n",
       "25%     13952.000000       1.000000       1.250000\n",
       "50%     15154.000000       3.000000       2.080000\n",
       "75%     16788.000000      10.000000       4.130000\n",
       "max     18287.000000   74215.000000   38970.000000"
      ]
     },
     "execution_count": 4,
     "metadata": {},
     "output_type": "execute_result"
    }
   ],
   "source": [
    "df.describe()"
   ]
  },
  {
   "cell_type": "code",
   "execution_count": 5,
   "id": "28a620bb",
   "metadata": {},
   "outputs": [
    {
     "name": "stdout",
     "output_type": "stream",
     "text": [
      "<class 'pandas.core.frame.DataFrame'>\n",
      "RangeIndex: 516384 entries, 0 to 516383\n",
      "Data columns (total 5 columns):\n",
      " #   Column       Non-Null Count   Dtype  \n",
      "---  ------       --------------   -----  \n",
      " 0   InvoiceNo    516384 non-null  object \n",
      " 1   InvoiceDate  516384 non-null  dbdate \n",
      " 2   CustomerID   389168 non-null  Int64  \n",
      " 3   Quantity     516384 non-null  Int64  \n",
      " 4   UnitPrice    516384 non-null  float64\n",
      "dtypes: Int64(2), dbdate(1), float64(1), object(1)\n",
      "memory usage: 20.7+ MB\n"
     ]
    }
   ],
   "source": [
    "df.info()"
   ]
  },
  {
   "cell_type": "code",
   "execution_count": 6,
   "id": "c56c74de",
   "metadata": {},
   "outputs": [
    {
     "data": {
      "text/plain": [
       "True     8928\n",
       "False    1306\n",
       "Name: InvoiceNo, dtype: int64"
      ]
     },
     "execution_count": 6,
     "metadata": {},
     "output_type": "execute_result"
    }
   ],
   "source": [
    "#Check if all quantity<0 caused by cancelled transaction (cancelled InvoiceNo start with 'c')\n",
    "df.loc[df['Quantity']<0].InvoiceNo.map(lambda x: str(x)[0]=='C').value_counts()"
   ]
  },
  {
   "cell_type": "code",
   "execution_count": 7,
   "id": "e20d9c8b",
   "metadata": {},
   "outputs": [
    {
     "data": {
      "text/html": [
       "<div>\n",
       "<style scoped>\n",
       "    .dataframe tbody tr th:only-of-type {\n",
       "        vertical-align: middle;\n",
       "    }\n",
       "\n",
       "    .dataframe tbody tr th {\n",
       "        vertical-align: top;\n",
       "    }\n",
       "\n",
       "    .dataframe thead th {\n",
       "        text-align: right;\n",
       "    }\n",
       "</style>\n",
       "<table border=\"1\" class=\"dataframe\">\n",
       "  <thead>\n",
       "    <tr style=\"text-align: right;\">\n",
       "      <th></th>\n",
       "      <th>InvoiceNo</th>\n",
       "      <th>InvoiceDate</th>\n",
       "      <th>CustomerID</th>\n",
       "      <th>Quantity</th>\n",
       "      <th>UnitPrice</th>\n",
       "    </tr>\n",
       "  </thead>\n",
       "  <tbody>\n",
       "    <tr>\n",
       "      <th>5017</th>\n",
       "      <td>536589</td>\n",
       "      <td>2020-12-01</td>\n",
       "      <td>&lt;NA&gt;</td>\n",
       "      <td>-10</td>\n",
       "      <td>0.0</td>\n",
       "    </tr>\n",
       "    <tr>\n",
       "      <th>5082</th>\n",
       "      <td>536764</td>\n",
       "      <td>2020-12-02</td>\n",
       "      <td>&lt;NA&gt;</td>\n",
       "      <td>-38</td>\n",
       "      <td>0.0</td>\n",
       "    </tr>\n",
       "    <tr>\n",
       "      <th>5264</th>\n",
       "      <td>536996</td>\n",
       "      <td>2020-12-03</td>\n",
       "      <td>&lt;NA&gt;</td>\n",
       "      <td>-20</td>\n",
       "      <td>0.0</td>\n",
       "    </tr>\n",
       "    <tr>\n",
       "      <th>5265</th>\n",
       "      <td>536997</td>\n",
       "      <td>2020-12-03</td>\n",
       "      <td>&lt;NA&gt;</td>\n",
       "      <td>-20</td>\n",
       "      <td>0.0</td>\n",
       "    </tr>\n",
       "    <tr>\n",
       "      <th>5266</th>\n",
       "      <td>536998</td>\n",
       "      <td>2020-12-03</td>\n",
       "      <td>&lt;NA&gt;</td>\n",
       "      <td>-6</td>\n",
       "      <td>0.0</td>\n",
       "    </tr>\n",
       "  </tbody>\n",
       "</table>\n",
       "</div>"
      ],
      "text/plain": [
       "     InvoiceNo InvoiceDate  CustomerID  Quantity  UnitPrice\n",
       "5017    536589  2020-12-01        <NA>       -10        0.0\n",
       "5082    536764  2020-12-02        <NA>       -38        0.0\n",
       "5264    536996  2020-12-03        <NA>       -20        0.0\n",
       "5265    536997  2020-12-03        <NA>       -20        0.0\n",
       "5266    536998  2020-12-03        <NA>        -6        0.0"
      ]
     },
     "execution_count": 7,
     "metadata": {},
     "output_type": "execute_result"
    }
   ],
   "source": [
    "#dive deep in normal transaction with quantity<0\n",
    "df[df.InvoiceNo.map(lambda x: str(x)[0]!='C')].query('Quantity <0').head()"
   ]
  },
  {
   "cell_type": "code",
   "execution_count": 8,
   "id": "0a44ce11",
   "metadata": {},
   "outputs": [
    {
     "data": {
      "text/plain": [
       "False    507456\n",
       "True       8928\n",
       "Name: InvoiceNo, dtype: int64"
      ]
     },
     "execution_count": 8,
     "metadata": {},
     "output_type": "execute_result"
    }
   ],
   "source": [
    "#how many cancelled transactions\n",
    "df.InvoiceNo.map(lambda x: str(x)[0]=='C').value_counts()"
   ]
  },
  {
   "cell_type": "markdown",
   "id": "f1598f98",
   "metadata": {},
   "source": [
    "## Data Cleaning \n",
    "- Drop cancelled orders and items records(which are not monatized)\n",
    "- Drop missing CustomerID records(bc we can't trace back to the customer )"
   ]
  },
  {
   "cell_type": "code",
   "execution_count": 9,
   "id": "629552dd",
   "metadata": {},
   "outputs": [],
   "source": [
    "# Drop cancelled orders and items records(which are not monatized)\n",
    "df.query('Quantity>0 & UnitPrice>0', inplace=True)\n",
    "\n",
    "#Drop missing cutomerID records\n",
    "df.dropna(inplace=True)"
   ]
  },
  {
   "cell_type": "markdown",
   "id": "b0d66ab3",
   "metadata": {},
   "source": [
    "## Feature Engineering\n",
    "- create sales feature (sales=quantity*UnitPrice)"
   ]
  },
  {
   "cell_type": "code",
   "execution_count": 10,
   "id": "45328b98",
   "metadata": {},
   "outputs": [],
   "source": [
    "df['Sales']=df.Quantity*df.UnitPrice"
   ]
  },
  {
   "cell_type": "code",
   "execution_count": 11,
   "id": "7f7c74f3",
   "metadata": {},
   "outputs": [],
   "source": [
    "df = df[['InvoiceNo','InvoiceDate','CustomerID','Sales']]"
   ]
  },
  {
   "cell_type": "code",
   "execution_count": 12,
   "id": "9f70db41",
   "metadata": {},
   "outputs": [
    {
     "data": {
      "text/plain": [
       "InvoiceNo      17754\n",
       "InvoiceDate      297\n",
       "CustomerID      4297\n",
       "Sales           2871\n",
       "dtype: int64"
      ]
     },
     "execution_count": 12,
     "metadata": {},
     "output_type": "execute_result"
    }
   ],
   "source": [
    "#change CustomerID's datatype from number to object\n",
    "df.CustomerID=df.CustomerID.astype('object')\n",
    "#get invoice info - unique invoiceNo and customerID\n",
    "df.nunique()"
   ]
  },
  {
   "cell_type": "markdown",
   "id": "c57aa6f2",
   "metadata": {},
   "source": [
    "## Data Exploration\n",
    "- The dataset includes 4338 unique customers' data from 2020-12-1 to 2021-11-30\n",
    "- Sales trend is generally steady with a few seasonality caused by holidays and events like Christmas and school opening\n",
    "- Sales distribution by customer vary a lot with high standard deviation: 50% customers purchase under \\\\$660, 25% customer purchase between \\\\$660-\\\\$1600 and rest of them are VIP customer spending between \\\\$1600 and \\\\$26000 \n",
    "- Frequency distibution is heavily left skewed with 50% customers had only 1-2 purchases, and the most frequent customer had 127 purchases"
   ]
  },
  {
   "cell_type": "code",
   "execution_count": 13,
   "id": "90087098",
   "metadata": {},
   "outputs": [
    {
     "name": "stdout",
     "output_type": "stream",
     "text": [
      "Dataset size: (380580, 4)\n"
     ]
    },
    {
     "data": {
      "text/html": [
       "<div>\n",
       "<style scoped>\n",
       "    .dataframe tbody tr th:only-of-type {\n",
       "        vertical-align: middle;\n",
       "    }\n",
       "\n",
       "    .dataframe tbody tr th {\n",
       "        vertical-align: top;\n",
       "    }\n",
       "\n",
       "    .dataframe thead th {\n",
       "        text-align: right;\n",
       "    }\n",
       "</style>\n",
       "<table border=\"1\" class=\"dataframe\">\n",
       "  <thead>\n",
       "    <tr style=\"text-align: right;\">\n",
       "      <th></th>\n",
       "      <th>InvoiceNo</th>\n",
       "      <th>InvoiceDate</th>\n",
       "      <th>CustomerID</th>\n",
       "      <th>Sales</th>\n",
       "    </tr>\n",
       "  </thead>\n",
       "  <tbody>\n",
       "    <tr>\n",
       "      <th>100</th>\n",
       "      <td>572215</td>\n",
       "      <td>2021-10-21</td>\n",
       "      <td>12646</td>\n",
       "      <td>26.56</td>\n",
       "    </tr>\n",
       "    <tr>\n",
       "      <th>101</th>\n",
       "      <td>572215</td>\n",
       "      <td>2021-10-21</td>\n",
       "      <td>12646</td>\n",
       "      <td>40.0</td>\n",
       "    </tr>\n",
       "    <tr>\n",
       "      <th>102</th>\n",
       "      <td>536540</td>\n",
       "      <td>2020-12-01</td>\n",
       "      <td>14911</td>\n",
       "      <td>42.5</td>\n",
       "    </tr>\n",
       "    <tr>\n",
       "      <th>103</th>\n",
       "      <td>536890</td>\n",
       "      <td>2020-12-03</td>\n",
       "      <td>14156</td>\n",
       "      <td>230.4</td>\n",
       "    </tr>\n",
       "    <tr>\n",
       "      <th>104</th>\n",
       "      <td>536890</td>\n",
       "      <td>2020-12-03</td>\n",
       "      <td>14156</td>\n",
       "      <td>61.2</td>\n",
       "    </tr>\n",
       "  </tbody>\n",
       "</table>\n",
       "</div>"
      ],
      "text/plain": [
       "    InvoiceNo InvoiceDate CustomerID  Sales\n",
       "100    572215  2021-10-21      12646  26.56\n",
       "101    572215  2021-10-21      12646   40.0\n",
       "102    536540  2020-12-01      14911   42.5\n",
       "103    536890  2020-12-03      14156  230.4\n",
       "104    536890  2020-12-03      14156   61.2"
      ]
     },
     "execution_count": 13,
     "metadata": {},
     "output_type": "execute_result"
    }
   ],
   "source": [
    "print('Dataset size:',df.shape)\n",
    "df.head()"
   ]
  },
  {
   "cell_type": "code",
   "execution_count": 14,
   "id": "aba980b6",
   "metadata": {},
   "outputs": [
    {
     "name": "stdout",
     "output_type": "stream",
     "text": [
      "2020-12-01\n",
      "2021-11-30\n"
     ]
    }
   ],
   "source": [
    "print(df.InvoiceDate.min())\n",
    "print(df.InvoiceDate.max())"
   ]
  },
  {
   "cell_type": "code",
   "execution_count": 15,
   "id": "f454f68a",
   "metadata": {},
   "outputs": [
    {
     "data": {
      "text/plain": [
       "[<matplotlib.lines.Line2D at 0x1363f5150>]"
      ]
     },
     "execution_count": 15,
     "metadata": {},
     "output_type": "execute_result"
    },
    {
     "data": {
      "image/png": "[encoded data removed]",
      "text/plain": [
       "<Figure size 1000x500 with 1 Axes>"
      ]
     },
     "metadata": {},
     "output_type": "display_data"
    }
   ],
   "source": [
    "#Check sales trend\n",
    "sales = df.groupby('InvoiceDate')['Sales'].sum()\n",
    "plt.figure(figsize=(10, 5))\n",
    "plt.plot(sales)"
   ]
  },
  {
   "cell_type": "code",
   "execution_count": 16,
   "id": "7053e998",
   "metadata": {},
   "outputs": [
    {
     "name": "stdout",
     "output_type": "stream",
     "text": [
      "Unique Customers: 4297\n",
      "Unique Days: 297\n"
     ]
    }
   ],
   "source": [
    "print(f'Unique Customers: {df[\"CustomerID\"].nunique()}')\n",
    "print(f'Unique Days: {df[\"InvoiceDate\"].nunique()}')"
   ]
  },
  {
   "cell_type": "code",
   "execution_count": 17,
   "id": "1e2fc6c5",
   "metadata": {},
   "outputs": [
    {
     "data": {
      "text/html": [
       "<div>\n",
       "<style scoped>\n",
       "    .dataframe tbody tr th:only-of-type {\n",
       "        vertical-align: middle;\n",
       "    }\n",
       "\n",
       "    .dataframe tbody tr th {\n",
       "        vertical-align: top;\n",
       "    }\n",
       "\n",
       "    .dataframe thead th {\n",
       "        text-align: right;\n",
       "    }\n",
       "</style>\n",
       "<table border=\"1\" class=\"dataframe\">\n",
       "  <thead>\n",
       "    <tr style=\"text-align: right;\">\n",
       "      <th></th>\n",
       "      <th>Sales</th>\n",
       "    </tr>\n",
       "  </thead>\n",
       "  <tbody>\n",
       "    <tr>\n",
       "      <th>count</th>\n",
       "      <td>4297.000000</td>\n",
       "    </tr>\n",
       "    <tr>\n",
       "      <th>mean</th>\n",
       "      <td>1953.273240</td>\n",
       "    </tr>\n",
       "    <tr>\n",
       "      <th>std</th>\n",
       "      <td>8355.832473</td>\n",
       "    </tr>\n",
       "    <tr>\n",
       "      <th>min</th>\n",
       "      <td>2.900000</td>\n",
       "    </tr>\n",
       "    <tr>\n",
       "      <th>25%</th>\n",
       "      <td>304.470000</td>\n",
       "    </tr>\n",
       "    <tr>\n",
       "      <th>50%</th>\n",
       "      <td>657.300000</td>\n",
       "    </tr>\n",
       "    <tr>\n",
       "      <th>75%</th>\n",
       "      <td>1600.860000</td>\n",
       "    </tr>\n",
       "    <tr>\n",
       "      <th>max</th>\n",
       "      <td>268478.000000</td>\n",
       "    </tr>\n",
       "  </tbody>\n",
       "</table>\n",
       "</div>"
      ],
      "text/plain": [
       "               Sales\n",
       "count    4297.000000\n",
       "mean     1953.273240\n",
       "std      8355.832473\n",
       "min         2.900000\n",
       "25%       304.470000\n",
       "50%       657.300000\n",
       "75%      1600.860000\n",
       "max    268478.000000"
      ]
     },
     "execution_count": 17,
     "metadata": {},
     "output_type": "execute_result"
    }
   ],
   "source": [
    "#sales per person explore\n",
    "sales_per_person = df.groupby('CustomerID')['Sales'].sum()\n",
    "sales_per_person.to_frame().describe()"
   ]
  },
  {
   "cell_type": "code",
   "execution_count": 18,
   "id": "65507d4d",
   "metadata": {},
   "outputs": [
    {
     "data": {
      "text/html": [
       "<div>\n",
       "<style scoped>\n",
       "    .dataframe tbody tr th:only-of-type {\n",
       "        vertical-align: middle;\n",
       "    }\n",
       "\n",
       "    .dataframe tbody tr th {\n",
       "        vertical-align: top;\n",
       "    }\n",
       "\n",
       "    .dataframe thead th {\n",
       "        text-align: right;\n",
       "    }\n",
       "</style>\n",
       "<table border=\"1\" class=\"dataframe\">\n",
       "  <thead>\n",
       "    <tr style=\"text-align: right;\">\n",
       "      <th></th>\n",
       "      <th>InvoiceDate</th>\n",
       "    </tr>\n",
       "  </thead>\n",
       "  <tbody>\n",
       "    <tr>\n",
       "      <th>count</th>\n",
       "      <td>4297.000000</td>\n",
       "    </tr>\n",
       "    <tr>\n",
       "      <th>mean</th>\n",
       "      <td>3.736793</td>\n",
       "    </tr>\n",
       "    <tr>\n",
       "      <th>std</th>\n",
       "      <td>5.728886</td>\n",
       "    </tr>\n",
       "    <tr>\n",
       "      <th>min</th>\n",
       "      <td>1.000000</td>\n",
       "    </tr>\n",
       "    <tr>\n",
       "      <th>25%</th>\n",
       "      <td>1.000000</td>\n",
       "    </tr>\n",
       "    <tr>\n",
       "      <th>50%</th>\n",
       "      <td>2.000000</td>\n",
       "    </tr>\n",
       "    <tr>\n",
       "      <th>75%</th>\n",
       "      <td>4.000000</td>\n",
       "    </tr>\n",
       "    <tr>\n",
       "      <th>max</th>\n",
       "      <td>127.000000</td>\n",
       "    </tr>\n",
       "  </tbody>\n",
       "</table>\n",
       "</div>"
      ],
      "text/plain": [
       "       InvoiceDate\n",
       "count  4297.000000\n",
       "mean      3.736793\n",
       "std       5.728886\n",
       "min       1.000000\n",
       "25%       1.000000\n",
       "50%       2.000000\n",
       "75%       4.000000\n",
       "max     127.000000"
      ]
     },
     "execution_count": 18,
     "metadata": {},
     "output_type": "execute_result"
    }
   ],
   "source": [
    "#freq per person explore\n",
    "sales_per_person = df.groupby('CustomerID')['InvoiceDate'].nunique()\n",
    "sales_per_person.to_frame().describe()"
   ]
  },
  {
   "cell_type": "markdown",
   "id": "a43eb1b9",
   "metadata": {},
   "source": [
    "## Modelling and Evaluation\n",
    "The modelling & evaluation process is going to be the following:\n",
    "\n",
    "1. Split into train and test periods\n",
    "2. Fit and evaluate BG/NBD model for frequency prediction\n",
    "3. Fit and evaluate Gamma-Gamma model for monetary value prediction\n",
    "4. Combine 2 models into CLV model and compare to baseline\n",
    "5. Refit the model on the entire dataset"
   ]
  },
  {
   "cell_type": "markdown",
   "id": "13eca39b",
   "metadata": {},
   "source": [
    "### 1. Train Test Split\n",
    "#### Split - 9 months data for traning, 3 months(i.e 90 days) data for testing:"
   ]
  },
  {
   "cell_type": "code",
   "execution_count": 19,
   "id": "c180773d",
   "metadata": {},
   "outputs": [],
   "source": [
    "#<>_cal: actual data for training; <>_holdout: actual data for testing\n",
    "rfm_train_test = calibration_and_holdout_data(df, 'CustomerID', 'InvoiceDate',\n",
    "                                        calibration_period_end='2021-8-31',\n",
    "                                        observation_period_end='2021-11-30',\n",
    "                                                  monetary_value_col = 'Sales')  "
   ]
  },
  {
   "cell_type": "code",
   "execution_count": 20,
   "id": "ce0d2a94",
   "metadata": {},
   "outputs": [],
   "source": [
    "#Filter out the customers who didn't make a repeat purchase since we can't really make a prediction base on them\n",
    "rfm_train_test = rfm_train_test.loc[(rfm_train_test.frequency_cal > 0) & (rfm_train_test.frequency_holdout > 0), :]"
   ]
  },
  {
   "cell_type": "code",
   "execution_count": 21,
   "id": "255b8af5",
   "metadata": {
    "scrolled": true
   },
   "outputs": [
    {
     "data": {
      "text/html": [
       "<div>\n",
       "<style scoped>\n",
       "    .dataframe tbody tr th:only-of-type {\n",
       "        vertical-align: middle;\n",
       "    }\n",
       "\n",
       "    .dataframe tbody tr th {\n",
       "        vertical-align: top;\n",
       "    }\n",
       "\n",
       "    .dataframe thead th {\n",
       "        text-align: right;\n",
       "    }\n",
       "</style>\n",
       "<table border=\"1\" class=\"dataframe\">\n",
       "  <thead>\n",
       "    <tr style=\"text-align: right;\">\n",
       "      <th></th>\n",
       "      <th>frequency_cal</th>\n",
       "      <th>recency_cal</th>\n",
       "      <th>T_cal</th>\n",
       "      <th>monetary_value_cal</th>\n",
       "      <th>frequency_holdout</th>\n",
       "      <th>monetary_value_holdout</th>\n",
       "      <th>duration_holdout</th>\n",
       "    </tr>\n",
       "    <tr>\n",
       "      <th>CustomerID</th>\n",
       "      <th></th>\n",
       "      <th></th>\n",
       "      <th></th>\n",
       "      <th></th>\n",
       "      <th></th>\n",
       "      <th></th>\n",
       "      <th></th>\n",
       "    </tr>\n",
       "  </thead>\n",
       "  <tbody>\n",
       "    <tr>\n",
       "      <th>12347</th>\n",
       "      <td>4.0</td>\n",
       "      <td>238.0</td>\n",
       "      <td>267.0</td>\n",
       "      <td>519.7675</td>\n",
       "      <td>1.0</td>\n",
       "      <td>27.538723</td>\n",
       "      <td>91.0</td>\n",
       "    </tr>\n",
       "    <tr>\n",
       "      <th>12348</th>\n",
       "      <td>2.0</td>\n",
       "      <td>110.0</td>\n",
       "      <td>258.0</td>\n",
       "      <td>297.2200</td>\n",
       "      <td>1.0</td>\n",
       "      <td>103.333333</td>\n",
       "      <td>91.0</td>\n",
       "    </tr>\n",
       "    <tr>\n",
       "      <th>12352</th>\n",
       "      <td>3.0</td>\n",
       "      <td>34.0</td>\n",
       "      <td>196.0</td>\n",
       "      <td>421.7700</td>\n",
       "      <td>3.0</td>\n",
       "      <td>20.09</td>\n",
       "      <td>91.0</td>\n",
       "    </tr>\n",
       "    <tr>\n",
       "      <th>12356</th>\n",
       "      <td>1.0</td>\n",
       "      <td>80.0</td>\n",
       "      <td>225.0</td>\n",
       "      <td>481.4600</td>\n",
       "      <td>1.0</td>\n",
       "      <td>29.175</td>\n",
       "      <td>91.0</td>\n",
       "    </tr>\n",
       "    <tr>\n",
       "      <th>12359</th>\n",
       "      <td>2.0</td>\n",
       "      <td>142.0</td>\n",
       "      <td>231.0</td>\n",
       "      <td>1474.1150</td>\n",
       "      <td>1.0</td>\n",
       "      <td>27.398571</td>\n",
       "      <td>91.0</td>\n",
       "    </tr>\n",
       "  </tbody>\n",
       "</table>\n",
       "</div>"
      ],
      "text/plain": [
       "            frequency_cal  recency_cal  T_cal  monetary_value_cal  \\\n",
       "CustomerID                                                          \n",
       "12347                 4.0        238.0  267.0            519.7675   \n",
       "12348                 2.0        110.0  258.0            297.2200   \n",
       "12352                 3.0         34.0  196.0            421.7700   \n",
       "12356                 1.0         80.0  225.0            481.4600   \n",
       "12359                 2.0        142.0  231.0           1474.1150   \n",
       "\n",
       "            frequency_holdout  monetary_value_holdout  duration_holdout  \n",
       "CustomerID                                                               \n",
       "12347                     1.0               27.538723              91.0  \n",
       "12348                     1.0              103.333333              91.0  \n",
       "12352                     3.0                   20.09              91.0  \n",
       "12356                     1.0                  29.175              91.0  \n",
       "12359                     1.0               27.398571              91.0  "
      ]
     },
     "execution_count": 21,
     "metadata": {},
     "output_type": "execute_result"
    }
   ],
   "source": [
    "rfm_train_test.head()"
   ]
  },
  {
   "cell_type": "code",
   "execution_count": 22,
   "id": "fb3c02cf",
   "metadata": {},
   "outputs": [
    {
     "data": {
      "text/plain": [
       "(1338, 7)"
      ]
     },
     "execution_count": 22,
     "metadata": {},
     "output_type": "execute_result"
    }
   ],
   "source": [
    "rfm_train_test.shape"
   ]
  },
  {
   "cell_type": "markdown",
   "id": "06b4712d",
   "metadata": {},
   "source": [
    "### 2. BG/NBD model - predict customer's purchase frequency in 90 days"
   ]
  },
  {
   "cell_type": "markdown",
   "id": "685742c0",
   "metadata": {},
   "source": [
    "Conclustion: \n",
    "- The model predict will for when customer repeated purchanse frequency is from 1-7 times\n",
    "- The model accuracy is pretty good: with average absolute error being about 1 purchase"
   ]
  },
  {
   "cell_type": "markdown",
   "id": "88e0517b",
   "metadata": {},
   "source": [
    "#### Model Fitting"
   ]
  },
  {
   "cell_type": "code",
   "execution_count": 23,
   "id": "c70c4d77",
   "metadata": {},
   "outputs": [
    {
     "name": "stdout",
     "output_type": "stream",
     "text": [
      "CPU times: user 49.1 ms, sys: 1.44 ms, total: 50.6 ms\n",
      "Wall time: 49.5 ms\n"
     ]
    },
    {
     "data": {
      "text/plain": [
       "<lifetimes.BetaGeoFitter: fitted with 1338 subjects, a: 0.00, alpha: 47.92, b: 0.00, r: 1.01>"
      ]
     },
     "execution_count": 23,
     "metadata": {},
     "output_type": "execute_result"
    }
   ],
   "source": [
    "%%time\n",
    "#Train the BG/NBD model\n",
    "bgf = BetaGeoFitter(penalizer_coef=0.1)\n",
    "bgf.fit(rfm_train_test['frequency_cal'], rfm_train_test['recency_cal'], rfm_train_test['T_cal'])"
   ]
  },
  {
   "cell_type": "code",
   "execution_count": 24,
   "id": "07027fdd",
   "metadata": {},
   "outputs": [],
   "source": [
    "#Predict\n",
    "predicted_bgf = bgf.predict((datetime.datetime(2021, 11, 30)- datetime.datetime(2021, 8, 31)).days,\n",
    "                        rfm_train_test['frequency_cal'], \n",
    "                        rfm_train_test['recency_cal'], \n",
    "                        rfm_train_test['T_cal'])"
   ]
  },
  {
   "cell_type": "markdown",
   "id": "7187368c",
   "metadata": {},
   "source": [
    "### 2.5 Customer behavior analysis for the next 90 days (Based on BG/NBD)\n",
    "- Future frequency analysis: The longer the customers have been alive and the higher their historical freqency, the more possible they will frequently visit the store, which makes sense. \n",
    " - Especially, in the future 90 days, the customers having more than 150 days ages and more than 70 times purchases are our most valueable customers with expected 20 times visites\n",
    "- Future aliveness analysis:  two types of customers are most likely being alive: 1. new customers with not high repeat purchase freq 2. higher age cusotmers with higher repeat purcase freq"
   ]
  },
  {
   "cell_type": "code",
   "execution_count": 25,
   "id": "c68eee1b",
   "metadata": {},
   "outputs": [
    {
     "data": {
      "image/png": "[encoded data removed]",
      "text/plain": [
       "<Figure size 500x400 with 2 Axes>"
      ]
     },
     "metadata": {},
     "output_type": "display_data"
    }
   ],
   "source": [
    "plt.subplots(figsize=(5,4))\n",
    "plot_frequency_recency_matrix(bgf, T=90)  \n",
    "plt.show()"
   ]
  },
  {
   "cell_type": "code",
   "execution_count": 26,
   "id": "bd308ac6",
   "metadata": {},
   "outputs": [
    {
     "data": {
      "image/png": "[encoded data removed]",
      "text/plain": [
       "<Figure size 500x400 with 2 Axes>"
      ]
     },
     "metadata": {},
     "output_type": "display_data"
    }
   ],
   "source": [
    "plt.subplots(figsize=(5,4))\n",
    "plot_probability_alive_matrix (bgf)\n",
    "plt.show()"
   ]
  },
  {
   "cell_type": "markdown",
   "id": "cac84987",
   "metadata": {},
   "source": [
    "#### Model Evaluation\n",
    "##### Result in testing dataset: Actual vs Prediction\n",
    "Generally under-predicted with 1 purchase difference, but generally well captured especially for low frequency purchase"
   ]
  },
  {
   "cell_type": "code",
   "execution_count": 27,
   "id": "e5756be1",
   "metadata": {
    "scrolled": false
   },
   "outputs": [
    {
     "data": {
      "text/plain": [
       "<AxesSubplot: title={'center': 'Actual Purchases in Holdout Period vs Predicted Purchases'}, xlabel='Purchases in calibration period', ylabel='Average of Purchases in Holdout Period'>"
      ]
     },
     "execution_count": 27,
     "metadata": {},
     "output_type": "execute_result"
    },
    {
     "data": {
      "image/png": "[encoded data removed]",
      "text/plain": [
       "<Figure size 640x480 with 1 Axes>"
      ]
     },
     "metadata": {},
     "output_type": "display_data"
    }
   ],
   "source": [
    "from lifetimes.plotting import plot_calibration_purchases_vs_holdout_purchases\n",
    "bgf.fit(rfm_train_test['frequency_cal'],rfm_train_test['recency_cal'],rfm_train_test['T_cal'])\n",
    "plot_calibration_purchases_vs_holdout_purchases(bgf,rfm_train_test, n=30)"
   ]
  },
  {
   "cell_type": "code",
   "execution_count": 28,
   "id": "7d0daad0",
   "metadata": {},
   "outputs": [
    {
     "name": "stdout",
     "output_type": "stream",
     "text": [
      "Average absolute error: 1.0877466085676006\n"
     ]
    }
   ],
   "source": [
    "#numeric evaluation: MAE(mean absolute error) \n",
    "actual = rfm_train_test['frequency_holdout']\n",
    "predicted = predicted_bgf\n",
    "print(f\"Average absolute error: {mean_absolute_error(actual, predicted)}\")"
   ]
  },
  {
   "cell_type": "markdown",
   "id": "2c91d35b",
   "metadata": {},
   "source": [
    "### 3. Gamma-Gamma Model - predict customer's average order spending in 90 days\n",
    "- Prediction result is decent. \n",
    "    - Monetary Actual vs Predicted: predicted is little higher than actual around $6 for 75% variance"
   ]
  },
  {
   "cell_type": "code",
   "execution_count": 29,
   "id": "74bc7908",
   "metadata": {
    "scrolled": true
   },
   "outputs": [
    {
     "data": {
      "text/html": [
       "<div>\n",
       "<style scoped>\n",
       "    .dataframe tbody tr th:only-of-type {\n",
       "        vertical-align: middle;\n",
       "    }\n",
       "\n",
       "    .dataframe tbody tr th {\n",
       "        vertical-align: top;\n",
       "    }\n",
       "\n",
       "    .dataframe thead th {\n",
       "        text-align: right;\n",
       "    }\n",
       "</style>\n",
       "<table border=\"1\" class=\"dataframe\">\n",
       "  <thead>\n",
       "    <tr style=\"text-align: right;\">\n",
       "      <th></th>\n",
       "      <th>monetary_value_cal</th>\n",
       "      <th>frequency_cal</th>\n",
       "    </tr>\n",
       "  </thead>\n",
       "  <tbody>\n",
       "    <tr>\n",
       "      <th>monetary_value_cal</th>\n",
       "      <td>1.000000</td>\n",
       "      <td>0.133791</td>\n",
       "    </tr>\n",
       "    <tr>\n",
       "      <th>frequency_cal</th>\n",
       "      <td>0.133791</td>\n",
       "      <td>1.000000</td>\n",
       "    </tr>\n",
       "  </tbody>\n",
       "</table>\n",
       "</div>"
      ],
      "text/plain": [
       "                    monetary_value_cal  frequency_cal\n",
       "monetary_value_cal            1.000000       0.133791\n",
       "frequency_cal                 0.133791       1.000000"
      ]
     },
     "execution_count": 29,
     "metadata": {},
     "output_type": "execute_result"
    }
   ],
   "source": [
    "#gamma-gamma model's prerequisite is monetary_value and freq are not correlated. So need to validate this\n",
    "##Finding: correlation coeffienct is lower than 0.1 which means there are independent with each otherb\n",
    "rfm_train_test[['monetary_value_cal', 'frequency_cal']].corr()"
   ]
  },
  {
   "cell_type": "markdown",
   "id": "19b20278",
   "metadata": {},
   "source": [
    "#### Model Fitting"
   ]
  },
  {
   "cell_type": "code",
   "execution_count": 30,
   "id": "f2e40206",
   "metadata": {},
   "outputs": [
    {
     "name": "stdout",
     "output_type": "stream",
     "text": [
      "<lifetimes.GammaGammaFitter: fitted with 1338 subjects, p: 5.57, q: 0.42, v: 5.46>\n"
     ]
    }
   ],
   "source": [
    "ggf = GammaGammaFitter(penalizer_coef = 0.005)\n",
    "ggf.fit(rfm_train_test['frequency_cal'],\n",
    "        rfm_train_test['monetary_value_cal'])\n",
    "print(ggf)"
   ]
  },
  {
   "cell_type": "markdown",
   "id": "22869f9c",
   "metadata": {},
   "source": [
    "#### Model Evaluation"
   ]
  },
  {
   "cell_type": "code",
   "execution_count": 31,
   "id": "941aa6b4",
   "metadata": {},
   "outputs": [],
   "source": [
    "monetary_pred = ggf.conditional_expected_average_profit(rfm_train_test['frequency_holdout'],\n",
    "                                        rfm_train_test['monetary_value_holdout'])"
   ]
  },
  {
   "cell_type": "code",
   "execution_count": 32,
   "id": "d9bc0f0f",
   "metadata": {},
   "outputs": [
    {
     "name": "stdout",
     "output_type": "stream",
     "text": [
      "Average absolute error: 6.102148759257455\n"
     ]
    }
   ],
   "source": [
    "#numeric evaluation: MAE(mean absolute error) \n",
    "actual = rfm_train_test['monetary_value_holdout']\n",
    "predicted = monetary_pred\n",
    "print(f\"Average absolute error: {mean_absolute_error(actual, predicted)}\")"
   ]
  },
  {
   "cell_type": "code",
   "execution_count": 33,
   "id": "4125f65f",
   "metadata": {},
   "outputs": [
    {
     "data": {
      "text/plain": [
       "count    1338.000000\n",
       "mean       36.722160\n",
       "std        95.819155\n",
       "min         1.675000\n",
       "25%        13.731888\n",
       "50%        19.183529\n",
       "75%        28.284888\n",
       "max      2232.000000\n",
       "Name: monetary_value_holdout, dtype: float64"
      ]
     },
     "execution_count": 33,
     "metadata": {},
     "output_type": "execute_result"
    }
   ],
   "source": [
    "actual.describe()"
   ]
  },
  {
   "cell_type": "code",
   "execution_count": 34,
   "id": "75f2e851",
   "metadata": {},
   "outputs": [
    {
     "data": {
      "text/plain": [
       "count    1338.000000\n",
       "mean       42.824309\n",
       "std       103.852237\n",
       "min         4.121655\n",
       "25%        18.004482\n",
       "50%        24.337177\n",
       "75%        34.200325\n",
       "max      2495.979089\n",
       "dtype: float64"
      ]
     },
     "execution_count": 34,
     "metadata": {},
     "output_type": "execute_result"
    }
   ],
   "source": [
    "predicted.describe()"
   ]
  },
  {
   "cell_type": "markdown",
   "id": "e64858da",
   "metadata": {},
   "source": [
    "### 4. CLV model - Predict customer lifetime values in 90 days"
   ]
  },
  {
   "cell_type": "code",
   "execution_count": 35,
   "id": "8a642543",
   "metadata": {},
   "outputs": [],
   "source": [
    "bgf.fit(rfm_train_test['frequency_cal'], rfm_train_test['recency_cal'], rfm_train_test['T_cal'])\n",
    "\n",
    "\n",
    "clv = ggf.customer_lifetime_value(\n",
    "    bgf, #the model to use to predict the number of future transactions\n",
    "    rfm_train_test['frequency_cal'],\n",
    "    rfm_train_test['recency_cal'],\n",
    "    rfm_train_test['T_cal'],\n",
    "    rfm_train_test['monetary_value_cal'],\n",
    "    time=4, # months\n",
    "    discount_rate=0.01 # monthly discount rate ~ 12.7% annually\n",
    ")\n",
    "\n",
    "rfm_train_test['clv'] = clv"
   ]
  },
  {
   "cell_type": "markdown",
   "id": "99519a1c",
   "metadata": {},
   "source": [
    "#### Comparing to baseline\n",
    "Let's imagine a scenario - we need to pick top 20% of our best users to target. Those who are not targeted will not purchase anything, so we need to be careful in the selection process. One way to do it, would be to select those users who have previously purchased a lot. I'll call this method a naive approach and I'll compare it to the model approach. Becuase we need to pick the ranking variable, I'll start with top 20% of users according to their Frequency and will compare them to top 20% according to calculated CLV."
   ]
  },
  {
   "cell_type": "code",
   "execution_count": 43,
   "id": "b4c9ff2f",
   "metadata": {},
   "outputs": [],
   "source": [
    "rfm_train_test['CustomerID'] = rfm_train_test.index"
   ]
  },
  {
   "cell_type": "code",
   "execution_count": 45,
   "id": "68ef065e",
   "metadata": {},
   "outputs": [
    {
     "data": {
      "text/html": [
       "<div>\n",
       "<style scoped>\n",
       "    .dataframe tbody tr th:only-of-type {\n",
       "        vertical-align: middle;\n",
       "    }\n",
       "\n",
       "    .dataframe tbody tr th {\n",
       "        vertical-align: top;\n",
       "    }\n",
       "\n",
       "    .dataframe thead th {\n",
       "        text-align: right;\n",
       "    }\n",
       "</style>\n",
       "<table border=\"1\" class=\"dataframe\">\n",
       "  <thead>\n",
       "    <tr style=\"text-align: right;\">\n",
       "      <th></th>\n",
       "      <th>frequency_cal</th>\n",
       "      <th>recency_cal</th>\n",
       "      <th>T_cal</th>\n",
       "      <th>monetary_value_cal</th>\n",
       "      <th>frequency_holdout</th>\n",
       "      <th>monetary_value_holdout</th>\n",
       "      <th>duration_holdout</th>\n",
       "      <th>clv</th>\n",
       "      <th>CustomerID</th>\n",
       "    </tr>\n",
       "    <tr>\n",
       "      <th>CustomerID</th>\n",
       "      <th></th>\n",
       "      <th></th>\n",
       "      <th></th>\n",
       "      <th></th>\n",
       "      <th></th>\n",
       "      <th></th>\n",
       "      <th></th>\n",
       "      <th></th>\n",
       "      <th></th>\n",
       "    </tr>\n",
       "  </thead>\n",
       "  <tbody>\n",
       "    <tr>\n",
       "      <th>12347</th>\n",
       "      <td>4.0</td>\n",
       "      <td>238.0</td>\n",
       "      <td>267.0</td>\n",
       "      <td>519.767500</td>\n",
       "      <td>1.0</td>\n",
       "      <td>27.538723</td>\n",
       "      <td>91.0</td>\n",
       "      <td>995.765202</td>\n",
       "      <td>12347</td>\n",
       "    </tr>\n",
       "    <tr>\n",
       "      <th>12348</th>\n",
       "      <td>2.0</td>\n",
       "      <td>110.0</td>\n",
       "      <td>258.0</td>\n",
       "      <td>297.220000</td>\n",
       "      <td>1.0</td>\n",
       "      <td>103.333333</td>\n",
       "      <td>91.0</td>\n",
       "      <td>364.025281</td>\n",
       "      <td>12348</td>\n",
       "    </tr>\n",
       "    <tr>\n",
       "      <th>12352</th>\n",
       "      <td>3.0</td>\n",
       "      <td>34.0</td>\n",
       "      <td>196.0</td>\n",
       "      <td>421.770000</td>\n",
       "      <td>3.0</td>\n",
       "      <td>20.09</td>\n",
       "      <td>91.0</td>\n",
       "      <td>843.766243</td>\n",
       "      <td>12352</td>\n",
       "    </tr>\n",
       "    <tr>\n",
       "      <th>12356</th>\n",
       "      <td>1.0</td>\n",
       "      <td>80.0</td>\n",
       "      <td>225.0</td>\n",
       "      <td>481.460000</td>\n",
       "      <td>1.0</td>\n",
       "      <td>29.175</td>\n",
       "      <td>91.0</td>\n",
       "      <td>467.681741</td>\n",
       "      <td>12356</td>\n",
       "    </tr>\n",
       "    <tr>\n",
       "      <th>12359</th>\n",
       "      <td>2.0</td>\n",
       "      <td>142.0</td>\n",
       "      <td>231.0</td>\n",
       "      <td>1474.115000</td>\n",
       "      <td>1.0</td>\n",
       "      <td>27.398571</td>\n",
       "      <td>91.0</td>\n",
       "      <td>1965.833390</td>\n",
       "      <td>12359</td>\n",
       "    </tr>\n",
       "    <tr>\n",
       "      <th>...</th>\n",
       "      <td>...</td>\n",
       "      <td>...</td>\n",
       "      <td>...</td>\n",
       "      <td>...</td>\n",
       "      <td>...</td>\n",
       "      <td>...</td>\n",
       "      <td>...</td>\n",
       "      <td>...</td>\n",
       "      <td>...</td>\n",
       "    </tr>\n",
       "    <tr>\n",
       "      <th>18242</th>\n",
       "      <td>1.0</td>\n",
       "      <td>17.0</td>\n",
       "      <td>113.0</td>\n",
       "      <td>379.820000</td>\n",
       "      <td>1.0</td>\n",
       "      <td>29.584808</td>\n",
       "      <td>91.0</td>\n",
       "      <td>627.608638</td>\n",
       "      <td>18242</td>\n",
       "    </tr>\n",
       "    <tr>\n",
       "      <th>18257</th>\n",
       "      <td>4.0</td>\n",
       "      <td>182.0</td>\n",
       "      <td>196.0</td>\n",
       "      <td>308.617500</td>\n",
       "      <td>2.0</td>\n",
       "      <td>20.388421</td>\n",
       "      <td>91.0</td>\n",
       "      <td>764.709669</td>\n",
       "      <td>18257</td>\n",
       "    </tr>\n",
       "    <tr>\n",
       "      <th>18263</th>\n",
       "      <td>1.0</td>\n",
       "      <td>97.0</td>\n",
       "      <td>152.0</td>\n",
       "      <td>503.800000</td>\n",
       "      <td>1.0</td>\n",
       "      <td>25.11</td>\n",
       "      <td>91.0</td>\n",
       "      <td>667.742363</td>\n",
       "      <td>18263</td>\n",
       "    </tr>\n",
       "    <tr>\n",
       "      <th>18272</th>\n",
       "      <td>3.0</td>\n",
       "      <td>133.0</td>\n",
       "      <td>146.0</td>\n",
       "      <td>488.876667</td>\n",
       "      <td>1.0</td>\n",
       "      <td>20.836207</td>\n",
       "      <td>91.0</td>\n",
       "      <td>1229.454288</td>\n",
       "      <td>18272</td>\n",
       "    </tr>\n",
       "    <tr>\n",
       "      <th>18283</th>\n",
       "      <td>7.0</td>\n",
       "      <td>189.0</td>\n",
       "      <td>237.0</td>\n",
       "      <td>125.331429</td>\n",
       "      <td>5.0</td>\n",
       "      <td>2.944804</td>\n",
       "      <td>91.0</td>\n",
       "      <td>421.111154</td>\n",
       "      <td>18283</td>\n",
       "    </tr>\n",
       "  </tbody>\n",
       "</table>\n",
       "<p>1338 rows × 9 columns</p>\n",
       "</div>"
      ],
      "text/plain": [
       "            frequency_cal  recency_cal  T_cal  monetary_value_cal  \\\n",
       "CustomerID                                                          \n",
       "12347                 4.0        238.0  267.0          519.767500   \n",
       "12348                 2.0        110.0  258.0          297.220000   \n",
       "12352                 3.0         34.0  196.0          421.770000   \n",
       "12356                 1.0         80.0  225.0          481.460000   \n",
       "12359                 2.0        142.0  231.0         1474.115000   \n",
       "...                   ...          ...    ...                 ...   \n",
       "18242                 1.0         17.0  113.0          379.820000   \n",
       "18257                 4.0        182.0  196.0          308.617500   \n",
       "18263                 1.0         97.0  152.0          503.800000   \n",
       "18272                 3.0        133.0  146.0          488.876667   \n",
       "18283                 7.0        189.0  237.0          125.331429   \n",
       "\n",
       "            frequency_holdout  monetary_value_holdout  duration_holdout  \\\n",
       "CustomerID                                                                \n",
       "12347                     1.0               27.538723              91.0   \n",
       "12348                     1.0              103.333333              91.0   \n",
       "12352                     3.0                   20.09              91.0   \n",
       "12356                     1.0                  29.175              91.0   \n",
       "12359                     1.0               27.398571              91.0   \n",
       "...                       ...                     ...               ...   \n",
       "18242                     1.0               29.584808              91.0   \n",
       "18257                     2.0               20.388421              91.0   \n",
       "18263                     1.0                   25.11              91.0   \n",
       "18272                     1.0               20.836207              91.0   \n",
       "18283                     5.0                2.944804              91.0   \n",
       "\n",
       "                    clv  CustomerID  \n",
       "CustomerID                           \n",
       "12347        995.765202       12347  \n",
       "12348        364.025281       12348  \n",
       "12352        843.766243       12352  \n",
       "12356        467.681741       12356  \n",
       "12359       1965.833390       12359  \n",
       "...                 ...         ...  \n",
       "18242        627.608638       18242  \n",
       "18257        764.709669       18257  \n",
       "18263        667.742363       18263  \n",
       "18272       1229.454288       18272  \n",
       "18283        421.111154       18283  \n",
       "\n",
       "[1338 rows x 9 columns]"
      ]
     },
     "execution_count": 45,
     "metadata": {},
     "output_type": "execute_result"
    }
   ],
   "source": [
    "rfm_train_test"
   ]
  },
  {
   "cell_type": "code",
   "execution_count": 50,
   "id": "0e7714b6",
   "metadata": {},
   "outputs": [],
   "source": [
    "top_20_len = int(rfm_train_test.shape[0]*0.2)\n",
    "\n",
    "#Naive approach by averaging the historic frequency\n",
    "naive_top20_index_freq = rfm_train_test.sort_values(['frequency_cal'], ascending=False).index.values[:top_20_len]\n",
    "naive_top20_id_freq = rfm_train_test.loc[naive_top20_index_freq , 'CustomerID'].unique()\n",
    "\n",
    "#Model approach IDs\n",
    "clv_top20 = rfm_train_test.sort_values('clv', ascending = False)['CustomerID'].values[:top_20_len]\n",
    "\n",
    "#Check if the number of customers selected is the same\n",
    "assert len(naive_top20_id_freq) == len(clv_top20)\n",
    "\n",
    "#Transactions dataframe with holdout dates\n",
    "df_test = df.loc[pd.to_datetime(df['InvoiceDate']) >'2021-8-31', :]\n",
    "\n",
    "#Include only those users who were selected\n",
    "df_test_naive_freq = df_test[df_test['CustomerID'].isin(naive_top20_id_freq)]\n",
    "df_test_clv = df_test[df_test['CustomerID'].isin(clv_top20)]"
   ]
  },
  {
   "cell_type": "markdown",
   "id": "04d346b3",
   "metadata": {},
   "source": [
    "#### Revenue\n",
    "Let's now see if the gains also generalise to the generated revenue."
   ]
  },
  {
   "cell_type": "code",
   "execution_count": 51,
   "id": "64d2e4a2",
   "metadata": {},
   "outputs": [],
   "source": [
    "naive_top20_index_mon = rfm_train_test.sort_values(['monetary_value_cal'], ascending=False).index.values[:top_20_len]\n",
    "naive_top20_id_mon = rfm_train_test.loc[naive_top20_index_mon , 'CustomerID'].unique()\n",
    "df_test_naive_mon = df_test[df_test['CustomerID'].isin(naive_top20_id_mon)]"
   ]
  },
  {
   "cell_type": "markdown",
   "id": "08662cbb",
   "metadata": {},
   "source": [
    "We can visualise this additional revenue by plotting the cumulative total sales of these users who were selected."
   ]
  },
  {
   "cell_type": "code",
   "execution_count": 54,
   "id": "74d3e704",
   "metadata": {},
   "outputs": [
    {
     "name": "stderr",
     "output_type": "stream",
     "text": [
      "100%|████████████████████████████████████████| 267/267 [00:00<00:00, 590.85it/s]\n"
     ]
    }
   ],
   "source": [
    "revenue_cdf_clv = []\n",
    "for idx in tqdm(clv_top20):\n",
    "    rev = df_test_clv.loc[df_test_clv.CustomerID == idx, 'Sales'].sum()\n",
    "    revenue_cdf_clv.append(rev)\n",
    "    \n",
    "cumsum_clv = np.cumsum(revenue_cdf_clv)"
   ]
  },
  {
   "cell_type": "code",
   "execution_count": 55,
   "id": "e09c93eb",
   "metadata": {},
   "outputs": [
    {
     "name": "stderr",
     "output_type": "stream",
     "text": [
      "100%|████████████████████████████████████████| 267/267 [00:00<00:00, 810.92it/s]\n"
     ]
    }
   ],
   "source": [
    "monetary_cdf_naive = []\n",
    "for idx in tqdm(naive_top20_id_mon):\n",
    "    rev = df_test_naive_mon.loc[df_test_naive_mon.CustomerID == idx, 'Sales'].sum()\n",
    "    monetary_cdf_naive.append(rev)\n",
    "    \n",
    "cumsum_mon = np.cumsum(monetary_cdf_naive)"
   ]
  },
  {
   "cell_type": "code",
   "execution_count": 56,
   "id": "f8e00a25",
   "metadata": {
    "scrolled": true
   },
   "outputs": [
    {
     "data": {
      "text/plain": [
       "<matplotlib.legend.Legend at 0x174cb7eb0>"
      ]
     },
     "execution_count": 56,
     "metadata": {},
     "output_type": "execute_result"
    },
    {
     "data": {
      "image/png": "[encoded data removed]",
      "text/plain": [
       "<Figure size 2000x1000 with 1 Axes>"
      ]
     },
     "metadata": {},
     "output_type": "display_data"
    }
   ],
   "source": [
    "plt.figure(figsize=(20, 10))\n",
    "plt.plot(cumsum_clv, label='CLV Model')\n",
    "plt.plot(cumsum_mon, label='Naive Approach')\n",
    "plt.legend()"
   ]
  },
  {
   "cell_type": "markdown",
   "id": "a5a890b4",
   "metadata": {},
   "source": [
    "#### Model Re-Train"
   ]
  },
  {
   "cell_type": "markdown",
   "id": "6bc6d7b5",
   "metadata": {},
   "source": [
    "Now that we've established that the model approach works, we can re-train the model on the entire dataset. Let's find out who are the top 10 most valuable customers."
   ]
  },
  {
   "cell_type": "code",
   "execution_count": 61,
   "id": "ca0192d0",
   "metadata": {},
   "outputs": [],
   "source": [
    "rfm = summary_data_from_transaction_data(df, 'CustomerID', 'InvoiceDate', monetary_value_col = 'Sales')\n",
    "rfm = rfm.loc[rfm.frequency > 0, :]"
   ]
  },
  {
   "cell_type": "code",
   "execution_count": 62,
   "id": "7e3e7783",
   "metadata": {},
   "outputs": [
    {
     "data": {
      "text/plain": [
       "<lifetimes.BetaGeoFitter: fitted with 2698 subjects, a: 0.01, alpha: 113.48, b: 0.17, r: 2.01>"
      ]
     },
     "execution_count": 62,
     "metadata": {},
     "output_type": "execute_result"
    }
   ],
   "source": [
    "#BG/NBD\n",
    "bgf = BetaGeoFitter(penalizer_coef=0.0)\n",
    "bgf.fit(rfm['frequency'], rfm['recency'], rfm['T'])"
   ]
  },
  {
   "cell_type": "code",
   "execution_count": 63,
   "id": "dd9119a5",
   "metadata": {},
   "outputs": [
    {
     "name": "stdout",
     "output_type": "stream",
     "text": [
      "<lifetimes.GammaGammaFitter: fitted with 2698 subjects, p: 2.11, q: 3.49, v: 492.82>\n"
     ]
    }
   ],
   "source": [
    "#GG\n",
    "ggf = GammaGammaFitter(penalizer_coef = 0)\n",
    "ggf.fit(rfm['frequency'],\n",
    "        rfm['monetary_value'])\n",
    "print(ggf)"
   ]
  },
  {
   "cell_type": "code",
   "execution_count": 64,
   "id": "a5f77ac9",
   "metadata": {},
   "outputs": [],
   "source": [
    "#CLV model\n",
    "clv = ggf.customer_lifetime_value(\n",
    "    bgf, #the model to use to predict the number of future transactions\n",
    "    rfm['frequency'],\n",
    "    rfm['recency'],\n",
    "    rfm['T'],\n",
    "    rfm['monetary_value'],\n",
    "    time=4, # months\n",
    "    discount_rate=0.01 # monthly discount rate ~ 12.7% annually\n",
    ")\n",
    "\n",
    "rfm['clv'] = clv"
   ]
  },
  {
   "cell_type": "markdown",
   "id": "febdcdae",
   "metadata": {},
   "source": [
    "These are the top 10 most valuable customers and how much they are worth in the next 3 months"
   ]
  },
  {
   "cell_type": "code",
   "execution_count": 65,
   "id": "662cc53d",
   "metadata": {},
   "outputs": [
    {
     "data": {
      "text/html": [
       "<div>\n",
       "<style scoped>\n",
       "    .dataframe tbody tr th:only-of-type {\n",
       "        vertical-align: middle;\n",
       "    }\n",
       "\n",
       "    .dataframe tbody tr th {\n",
       "        vertical-align: top;\n",
       "    }\n",
       "\n",
       "    .dataframe thead th {\n",
       "        text-align: right;\n",
       "    }\n",
       "</style>\n",
       "<table border=\"1\" class=\"dataframe\">\n",
       "  <thead>\n",
       "    <tr style=\"text-align: right;\">\n",
       "      <th></th>\n",
       "      <th>frequency</th>\n",
       "      <th>recency</th>\n",
       "      <th>T</th>\n",
       "      <th>monetary_value</th>\n",
       "      <th>clv</th>\n",
       "    </tr>\n",
       "    <tr>\n",
       "      <th>CustomerID</th>\n",
       "      <th></th>\n",
       "      <th></th>\n",
       "      <th></th>\n",
       "      <th></th>\n",
       "      <th></th>\n",
       "    </tr>\n",
       "  </thead>\n",
       "  <tbody>\n",
       "    <tr>\n",
       "      <th>14646</th>\n",
       "      <td>42.0</td>\n",
       "      <td>338.0</td>\n",
       "      <td>345.0</td>\n",
       "      <td>6390.643810</td>\n",
       "      <td>69859.113496</td>\n",
       "    </tr>\n",
       "    <tr>\n",
       "      <th>18102</th>\n",
       "      <td>23.0</td>\n",
       "      <td>356.0</td>\n",
       "      <td>358.0</td>\n",
       "      <td>9663.103913</td>\n",
       "      <td>57104.445908</td>\n",
       "    </tr>\n",
       "    <tr>\n",
       "      <th>17450</th>\n",
       "      <td>25.0</td>\n",
       "      <td>357.0</td>\n",
       "      <td>358.0</td>\n",
       "      <td>7638.382000</td>\n",
       "      <td>48961.124497</td>\n",
       "    </tr>\n",
       "    <tr>\n",
       "      <th>14096</th>\n",
       "      <td>15.0</td>\n",
       "      <td>90.0</td>\n",
       "      <td>92.0</td>\n",
       "      <td>3747.131333</td>\n",
       "      <td>33840.307182</td>\n",
       "    </tr>\n",
       "    <tr>\n",
       "      <th>14911</th>\n",
       "      <td>126.0</td>\n",
       "      <td>364.0</td>\n",
       "      <td>364.0</td>\n",
       "      <td>1081.672698</td>\n",
       "      <td>33712.256190</td>\n",
       "    </tr>\n",
       "    <tr>\n",
       "      <th>12415</th>\n",
       "      <td>15.0</td>\n",
       "      <td>313.0</td>\n",
       "      <td>328.0</td>\n",
       "      <td>7860.210000</td>\n",
       "      <td>32918.919404</td>\n",
       "    </tr>\n",
       "    <tr>\n",
       "      <th>14156</th>\n",
       "      <td>42.0</td>\n",
       "      <td>362.0</td>\n",
       "      <td>362.0</td>\n",
       "      <td>2787.081667</td>\n",
       "      <td>29455.018645</td>\n",
       "    </tr>\n",
       "    <tr>\n",
       "      <th>17511</th>\n",
       "      <td>25.0</td>\n",
       "      <td>357.0</td>\n",
       "      <td>364.0</td>\n",
       "      <td>3274.292800</td>\n",
       "      <td>20791.950148</td>\n",
       "    </tr>\n",
       "    <tr>\n",
       "      <th>16029</th>\n",
       "      <td>38.0</td>\n",
       "      <td>335.0</td>\n",
       "      <td>364.0</td>\n",
       "      <td>2034.808421</td>\n",
       "      <td>19397.538714</td>\n",
       "    </tr>\n",
       "    <tr>\n",
       "      <th>16684</th>\n",
       "      <td>14.0</td>\n",
       "      <td>347.0</td>\n",
       "      <td>349.0</td>\n",
       "      <td>4322.308571</td>\n",
       "      <td>16251.635189</td>\n",
       "    </tr>\n",
       "  </tbody>\n",
       "</table>\n",
       "</div>"
      ],
      "text/plain": [
       "            frequency  recency      T  monetary_value           clv\n",
       "CustomerID                                                         \n",
       "14646            42.0    338.0  345.0     6390.643810  69859.113496\n",
       "18102            23.0    356.0  358.0     9663.103913  57104.445908\n",
       "17450            25.0    357.0  358.0     7638.382000  48961.124497\n",
       "14096            15.0     90.0   92.0     3747.131333  33840.307182\n",
       "14911           126.0    364.0  364.0     1081.672698  33712.256190\n",
       "12415            15.0    313.0  328.0     7860.210000  32918.919404\n",
       "14156            42.0    362.0  362.0     2787.081667  29455.018645\n",
       "17511            25.0    357.0  364.0     3274.292800  20791.950148\n",
       "16029            38.0    335.0  364.0     2034.808421  19397.538714\n",
       "16684            14.0    347.0  349.0     4322.308571  16251.635189"
      ]
     },
     "execution_count": 65,
     "metadata": {},
     "output_type": "execute_result"
    }
   ],
   "source": [
    "rfm.sort_values('clv', ascending=False).head(10)"
   ]
  }
 ],
 "metadata": {
  "kernelspec": {
   "display_name": "Python 3 (ipykernel)",
   "language": "python",
   "name": "python3"
  },
  "language_info": {
   "codemirror_mode": {
    "name": "ipython",
    "version": 3
   },
   "file_extension": ".py",
   "mimetype": "text/x-python",
   "name": "python",
   "nbconvert_exporter": "python",
   "pygments_lexer": "ipython3",
   "version": "3.10.7"
  }
 },
 "nbformat": 4,
 "nbformat_minor": 5
}
